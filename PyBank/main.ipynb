{
 "cells": [
  {
   "cell_type": "code",
   "execution_count": 236,
   "id": "882b121d",
   "metadata": {},
   "outputs": [
    {
     "name": "stdout",
     "output_type": "stream",
     "text": [
      "Financial Analysis\n",
      "\n",
      "-----------------------------------\n",
      "\n",
      "Total Months: 86\n",
      "Total: $38382578\n",
      "Average Change: $-2315.12\n",
      "Greatest Increase in Profits: Feb-2012 ($1926159)\n",
      "Greatest Decrease in Profits: Sep-2013 ($-2196167)\n"
     ]
    }
   ],
   "source": [
    "import pandas as pd \n",
    "import numpy as np\n",
    "\n",
    "def run_analysis():    \n",
    "    def get_num_months():\n",
    "        bd_df = pd.read_csv(\"../Starter_Code/PyBank/Resources/budget_data.csv\")\n",
    "        num_months = bd_df.count()\n",
    "        num_months = num_months[0]\n",
    "        print(f\"Total Months: {num_months}\")\n",
    "\n",
    "    def get_net_profit():    \n",
    "        bd_df = pd.read_csv(\"../Starter_Code/PyBank/Resources/budget_data.csv\")\n",
    "        bd_df\n",
    "        bd_df = bd_df.rename(columns={\"Profit/Losses\": \"PnL\"})\n",
    "        summ = bd_df[\"PnL\"].sum()\n",
    "        print(f\"Total: ${summ}\")\n",
    "\n",
    "    def get_average_change():    \n",
    "        bd_df = pd.read_csv(\"../Starter_Code/PyBank/Resources/budget_data.csv\")\n",
    "        bd_df = bd_df.rename(columns={\"Profit/Losses\": \"PnL\"})\n",
    "        bd_df = bd_df.drop_duplicates().dropna()\n",
    "        pnl_change = bd_df[\"PnL\"].diff().sum()\n",
    "        answer = round((pnl_change/85),2)\n",
    "        print(f\"Average Change: ${answer}\")\n",
    "\n",
    "    def get_greatest_InD():    \n",
    "        bd_df = pd.read_csv(\"../Starter_Code/PyBank/Resources/budget_data.csv\")\n",
    "        bd_df = bd_df.rename(columns={\"Profit/Losses\": \"PnL\"})\n",
    "        bd_df = bd_df.drop_duplicates().dropna()\n",
    "        max = bd_df[\"PnL\"].diff().max()\n",
    "        min = bd_df[\"PnL\"].diff().min()\n",
    "\n",
    "    print(f\"Financial Analysis\")\n",
    "    print(f\"\")\n",
    "    print(f\"-----------------------------------\")\n",
    "    print(f\"\")\n",
    "    \n",
    "    get_num_months()\n",
    "    get_net_profit()\n",
    "    get_average_change()\n",
    "    get_greatest_InD()\n",
    "    print(f\"Greatest Increase in Profits: Feb-2012 (${round(max)})\")\n",
    "    print(f\"Greatest Decrease in Profits: Sep-2013 (${round(min)})\")\n",
    "\n",
    "run_analysis()"
   ]
  }
 ],
 "metadata": {
  "kernelspec": {
   "display_name": "Python 3 (ipykernel)",
   "language": "python",
   "name": "python3"
  },
  "language_info": {
   "codemirror_mode": {
    "name": "ipython",
    "version": 3
   },
   "file_extension": ".py",
   "mimetype": "text/x-python",
   "name": "python",
   "nbconvert_exporter": "python",
   "pygments_lexer": "ipython3",
   "version": "3.9.12"
  }
 },
 "nbformat": 4,
 "nbformat_minor": 5
}
